{
 "metadata": {
  "name": "",
  "signature": "sha256:3d6a493928052057113bd4bd2e483ce01e8fbd4dd0e3bdf73eb607e6651ffc4d"
 },
 "nbformat": 3,
 "nbformat_minor": 0,
 "worksheets": [
  {
   "cells": [
    {
     "cell_type": "heading",
     "level": 1,
     "metadata": {},
     "source": [
      "The serious attack on the AES S-box"
     ]
    },
    {
     "cell_type": "markdown",
     "metadata": {},
     "source": [
      "The code should be self-explanatory (especially if you look into lracpa.py module).\n",
      "\n",
      "In the plots:\n",
      "- red trace is for known correct candidate\n",
      "- blue trace is for the winning candidate (e.g. the one with maximum peak)\n",
      "- grey traces are for all other candiadte\n",
      "\n",
      "Version: 0.1, 2014-11-19\n",
      "Started by Ilya on 2014-11-18"
     ]
    },
    {
     "cell_type": "heading",
     "level": 2,
     "metadata": {},
     "source": [
      "Load packages"
     ]
    },
    {
     "cell_type": "code",
     "collapsed": false,
     "input": [
      "%matplotlib inline\n",
      "pylab.rcParams['figure.figsize'] = (18.0, 12.0)\n",
      "\n",
      "#import numpy as np\n",
      "#import matplotlib.pyplot as plt\n",
      "import time\n",
      "\n",
      "from aes import AES    # interweb's SlowAES toolbox\n",
      "from lracpa import *   # my LRA-CPA toolbox\n",
      "from condaver import * # incremental conditional averaging"
     ],
     "language": "python",
     "metadata": {},
     "outputs": []
    },
    {
     "cell_type": "heading",
     "level": 2,
     "metadata": {},
     "source": [
      "Configurable parameters"
     ]
    },
    {
     "cell_type": "code",
     "collapsed": false,
     "input": [
      "## Traceset, number of traces, and S-box to attack\n",
      "tracesetFilename = \"traces/swaes_atmega_powertraces.npz\"\n",
      "N = 40              # number of traces to attack (less or equal to the amount o f traces in the file)\n",
      "evolutionStep = 1   # step for intermediate reports\n",
      "SboxNum = 1         # S-box to attack, counting from 0\n",
      "\n",
      "## Leakage model\n",
      "## (these parameters correspond to function names in lracpa module)\n",
      "intermediateFunction = sBoxOut                       # for CPA and LRA\n",
      "leakageFunction      = leakageModelHW                # for CPA\n",
      "basisFunctionsModel  = basisModelSingleBitsDecorator # for LRA\n",
      "\n",
      "## Known key for ranking\n",
      "knownKeyStr = \"2B7E151628AED2A6ABF7158809CF4F3C\".decode(\"hex\") # the correct key\n",
      "encrypt = True # to avoid selective commenting in the followign lines below \n",
      "\n",
      "if encrypt: # for encryption, the first round key is as is\n",
      "    knownKey = np.array(map(ord, knownKeyStr), dtype=\"uint8\")\n",
      "else:       # for decryption, need to run key expansion \n",
      "    expandedKnownKey = AES().expandKey(map(ord, knownKeyStr), 16, 16 * 11) # this returs a list\n",
      "    knownKey = np.array(expandedKnownKey[176-16:177], dtype=\"uint8\")"
     ],
     "language": "python",
     "metadata": {},
     "outputs": []
    },
    {
     "cell_type": "heading",
     "level": 2,
     "metadata": {},
     "source": [
      "Log the parameters"
     ]
    },
    {
     "cell_type": "code",
     "collapsed": false,
     "input": [
      "print \"---\\nAttack parameters\"\n",
      "print \"Intermediate function   :\", intermediateFunction.__name__\n",
      "print \"CPA leakage function    :\", leakageFunction.__name__\n",
      "print \"LRA basis functions     :\", basisFunctionsModel.__name__\n",
      "print \"Encryption              :\", encrypt\n",
      "print \"S-box number            :\", SboxNum\n",
      "print \"Known roundkey          : 0x%s\" % str(bytearray(knownKey)).encode(\"hex\")"
     ],
     "language": "python",
     "metadata": {},
     "outputs": []
    },
    {
     "cell_type": "heading",
     "level": 2,
     "metadata": {},
     "source": [
      "Load samples and data"
     ]
    },
    {
     "cell_type": "code",
     "collapsed": false,
     "input": [
      "# Readout\n",
      "print \"---\\nLoading \" + tracesetFilename\n",
      "t0 = time.clock()\n",
      "npzfile = np.load(tracesetFilename)\n",
      "data = npzfile['data'][0:N,SboxNum] # selecting only the required byte\n",
      "traces = npzfile['traces'][0:N,1000:1200]   # can select a sub-range of samples here TODO: parametrize!\n",
      "t1 = time.clock()\n",
      "timeLoad = t1 - t0\n",
      "\n",
      "# Log traceset parameters\n",
      "(numTraces, traceLength) = traces.shape\n",
      "print \"Number of traces loaded :\", numTraces\n",
      "print \"Trace length            :\", traceLength\n",
      "print \"Loading time            : %0.2f s\" % timeLoad"
     ],
     "language": "python",
     "metadata": {},
     "outputs": []
    },
    {
     "cell_type": "heading",
     "level": 2,
     "metadata": {},
     "source": [
      "LRA and CPA with evolving amount of traces"
     ]
    },
    {
     "cell_type": "code",
     "collapsed": false,
     "input": [
      "print \"---\\nAttack\" \n",
      "\n",
      "# initialize the incremental averager\n",
      "CondAver = ConditionalAverager(256, traceLength)\n",
      "\n",
      "# allocate arrays for storing key rank evolution\n",
      "numSteps = np.ceil(N / np.double(evolutionStep))\n",
      "keyRankEvolutionCPA = np.zeros(numSteps)\n",
      "keyRankEvolutionLRA = np.zeros(numSteps)\n",
      "\n",
      "# the incremental loop\n",
      "tracesToSkip = 15 # warm-up to avoid numerical problems\n",
      "for i in range (0, tracesToSkip - 1):\n",
      "    CondAver.addTrace(data[i], traces[i])\n",
      "for i in range(tracesToSkip - 1, N):\n",
      "    CondAver.addTrace(data[i], traces[i])\n",
      "\n",
      "    if ((i % evolutionStep == 0) or (i == N-1)):\n",
      "\n",
      "        (avdata, avtraces) = CondAver.getSnapshot()\n",
      "\n",
      "        CorrTraces = cpaAES(avdata, avtraces, intermediateFunction, leakageFunction)\n",
      "        R2 = lraAES(avdata, avtraces, intermediateFunction, basisFunctionsModel)\n",
      "\n",
      "        print \"---\\nResults after %d traces\" % (i + 1)\n",
      "        print \"CPA\"\n",
      "        CorrPeaks = np.max(CorrTraces, axis=1) # global maximization\n",
      "        CpaWinningCandidate = np.argmax(CorrPeaks)\n",
      "        CpaWinningCandidatePeak = np.max(CorrPeaks)\n",
      "        CpaCorrectCandidateRank = np.count_nonzero(CorrPeaks >= CorrPeaks[knownKey[SboxNum]])\n",
      "        CpaCorrectCandidatePeak = CorrPeaks[knownKey[SboxNum]]\n",
      "        print \"Winning candidate: 0x%02x, peak magnitude %f\" % (CpaWinningCandidate, CpaWinningCandidatePeak)\n",
      "        print \"Correct candidate: 0x%02x, peak magnitude %f, rank %d\" % (knownKey[SboxNum], CpaCorrectCandidatePeak, CpaCorrectCandidateRank)\n",
      "\n",
      "        print \"LRA\"\n",
      "        R2Peaks = np.max(R2, axis=1) # global maximization\n",
      "        LraWinningCandidate = np.argmax(R2Peaks)\n",
      "        LraWinningCandidatePeak = np.max(R2Peaks)\n",
      "        LraCorrectCandidateRank = np.count_nonzero(R2Peaks >= R2Peaks[knownKey[SboxNum]])\n",
      "        LraCorrectCandidatePeak = R2Peaks[knownKey[SboxNum]]\n",
      "        print \"Winning candidate: 0x%02x, peak magnitude %f\" % (LraWinningCandidate, LraWinningCandidatePeak)\n",
      "        print \"Correct candidate: 0x%02x, peak magnitude %f, rank %d\" % (knownKey[SboxNum], LraCorrectCandidatePeak, LraCorrectCandidateRank)\n",
      "\n",
      "        stepCount = np.ceil(i / evolutionStep)\n",
      "        keyRankEvolutionCPA[stepCount] = CpaCorrectCandidateRank\n",
      "        keyRankEvolutionLRA[stepCount] = LraCorrectCandidateRank"
     ],
     "language": "python",
     "metadata": {},
     "outputs": []
    },
    {
     "cell_type": "heading",
     "level": 2,
     "metadata": {},
     "source": [
      "Visualize results"
     ]
    },
    {
     "cell_type": "code",
     "collapsed": false,
     "input": [
      "fig = plt.figure()\n",
      "\n",
      "# allocate grid\n",
      "axCPA = plt.subplot2grid((2, 2), (0, 0))\n",
      "axLRA = plt.subplot2grid((2, 2), (1, 0))\n",
      "axRankEvolution = plt.subplot2grid((2, 2), (0, 1), rowspan = 2)\n",
      "\n",
      "# CPA\n",
      "axCPA.plot(CorrTraces.T, color = 'grey')\n",
      "if CpaWinningCandidate == knownKey[SboxNum]:\n",
      "    axCPA.plot(CorrTraces[CpaWinningCandidate, :], 'blue')\n",
      "axCPA.plot(CorrTraces[knownKey[SboxNum], :], 'r')\n",
      "axRankEvolution.plot(keyRankEvolutionCPA, color = 'green')\n",
      "\n",
      "# LRA\n",
      "axLRA.plot(R2.T, color = 'grey')\n",
      "if LraWinningCandidate == knownKey[SboxNum]:\n",
      "    axLRA.plot(R2[LraWinningCandidate, :], 'blue')\n",
      "axLRA.plot(R2[knownKey[SboxNum], :], 'r')\n",
      "axRankEvolution.plot(keyRankEvolutionLRA, color = 'magenta')\n",
      "\n",
      "# labels\n",
      "fig.suptitle(\"CPA and LRA on %d traces\" % N)\n",
      "axCPA.set_ylabel('Correlation')\n",
      "axLRA.set_ylabel('R2')\n",
      "axLRA.set_xlabel('Time sample')\n",
      "axRankEvolution.set_ylabel('Correct key candidate rank')\n",
      "axRankEvolution.set_xlabel('Number of traces')\n",
      "\n",
      "# Limits\n",
      "axRankEvolution.set_xlim([np.ceil(tracesToSkip / evolutionStep) - 1, numSteps - 1])\n",
      "axRankEvolution.set_ylim([0, 256])\n",
      "\n",
      "# Adjust tick labels for rank evolution plot \n",
      "xTickLocations = axRankEvolution.get_xticks()\n",
      "xTickLabels = map(lambda x: \"%g\" % x, xTickLocations * evolutionStep)\n",
      "axRankEvolution.set_xticklabels(xTickLabels)\n",
      "\n",
      "# Legend for rank evolution plot\n",
      "axRankEvolution.legend(['CPA', 'LRA'], loc='upper right')\n",
      "\n",
      "plt.show()"
     ],
     "language": "python",
     "metadata": {},
     "outputs": []
    },
    {
     "cell_type": "code",
     "collapsed": false,
     "input": [],
     "language": "python",
     "metadata": {},
     "outputs": []
    }
   ],
   "metadata": {}
  }
 ]
}